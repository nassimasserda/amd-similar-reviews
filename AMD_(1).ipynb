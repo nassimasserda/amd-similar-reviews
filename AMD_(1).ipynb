{
  "cells": [
    {
      "cell_type": "code",
      "execution_count": null,
      "metadata": {
        "id": "eqcwkVCYDP0j"
      },
      "outputs": [],
      "source": [
        "# We import the needed libraries\n",
        "import pandas as pd\n",
        "from pyspark.sql import SparkSession\n",
        "from pyspark.sql.functions import udf, col, monotonically_increasing_id\n",
        "from pyspark.sql.types import StringType, BooleanType\n",
        "from pyspark.ml.feature import (\n",
        "    Tokenizer,\n",
        "    StopWordsRemover,\n",
        "    HashingTF,\n",
        "    MinHashLSH\n",
        ")\n",
        "import nltk\n",
        "from nltk.corpus import stopwords\n",
        "from tqdm import tqdm\n",
        "import psutil\n",
        "import zipfile\n",
        "import os, re, time, math, pickle\n",
        "from multiprocessing import Pool, cpu_count\n",
        "from itertools import combinations"
      ]
    },
    {
      "cell_type": "code",
      "execution_count": null,
      "metadata": {
        "colab": {
          "base_uri": "https://localhost:8080/"
        },
        "id": "vw0QU-rrDO5_",
        "outputId": "01ab34d3-2bfd-47b3-d455-01a17e595468"
      },
      "outputs": [
        {
          "name": "stdout",
          "output_type": "stream",
          "text": [
            "Dataset URL: https://www.kaggle.com/datasets/mohamedbakhet/amazon-books-reviews\n",
            "License(s): CC0-1.0\n",
            "amazon-books-reviews.zip: Skipping, found more recently modified local copy (use --force to force download)\n"
          ]
        }
      ],
      "source": [
        "\n",
        "os.environ['KAGGLE_USERNAME'] = \"xxxxxxxxxx\"\n",
        "os.environ['KAGGLE_KEY'] = \"xxxxxxxxxx\"\n",
        "!kaggle datasets download -d'mohamedbakhet/amazon-books-reviews'"
      ]
    },
    {
      "cell_type": "code",
      "execution_count": null,
      "metadata": {
        "id": "wBizVK8FDpcp"
      },
      "outputs": [],
      "source": [
        "# Extract the zip file to the current working directory (i.e., the root directory in Colab)\n",
        "with zipfile.ZipFile('amazon-books-reviews.zip', 'r') as zip_ref:\n",
        "    zip_ref.extractall()  # Extract to the current directory"
      ]
    },
    {
      "cell_type": "code",
      "execution_count": null,
      "metadata": {
        "id": "hVVgf0GTAOhz"
      },
      "outputs": [],
      "source": [
        "def jaccard(a, b):\n",
        "    sa, sb = set(a), set(b)\n",
        "    return float(len(sa & sb) / len(sa | sb)) if sa and sb else 0.0\n",
        "\n",
        "def tokenize(text: str):\n",
        "    \"\"\"Clean and tokenize review text, removing stopwords.\"\"\"\n",
        "    if pd.isna(text): return []\n",
        "    return [t for t in TOKEN_RE.findall(text.lower()) if t not in STOP_WORDS]"
      ]
    },
    {
      "cell_type": "code",
      "execution_count": null,
      "metadata": {
        "colab": {
          "base_uri": "https://localhost:8080/"
        },
        "id": "I0F9wd2a8ymt",
        "outputId": "b037a731-9f8c-4526-b077-cac281be2549"
      },
      "outputs": [
        {
          "name": "stderr",
          "output_type": "stream",
          "text": [
            "49995000it [29:20, 28394.54it/s]\n"
          ]
        },
        {
          "name": "stdout",
          "output_type": "stream",
          "text": [
            "Brute-force top-10: [(253, 256, 1.0), (262, 267, 1.0), (422, 423, 1.0), (428, 429, 1.0), (535, 536, 1.0), (596, 597, 1.0), (724, 790, 1.0), (726, 727, 1.0), (776, 784, 1.0), (884, 889, 1.0)]\n",
            "Resources Used: 1791.96s, Δmem: 5046.8MiB\n"
          ]
        }
      ],
      "source": [
        "# We test the Brute force Jaccard\n",
        "\n",
        "res = {\n",
        "    'brute': []}\n",
        "SUBSAMPLE_SIZE     = 10000\n",
        "top_k= 10\n",
        "file_path = r\"Books_rating.csv\"\n",
        "proc = psutil.Process(os.getpid())\n",
        "TOKEN_RE = re.compile(r\"\\b[a-z]{2,}\\b\")\n",
        "STOP_WORDS = set(stopwords.words('english'))\n",
        "\n",
        "\n",
        "start = time.time(); mem0 = proc.memory_info().rss/(1024**2)\n",
        "\n",
        "\n",
        "df_b = pd.read_csv(file_path, usecols=['review/text'], nrows=SUBSAMPLE_SIZE)\n",
        "df_b['tokens'] = df_b['review/text'].fillna('').map(tokenize)\n",
        "\n",
        "\n",
        "# compute all pairs and scores\n",
        "pairs = combinations(df_b.index, 2)\n",
        "scores = [(i, j, jaccard(df_b.loc[i,'tokens'], df_b.loc[j,'tokens']))\n",
        "          for i,j in tqdm(pairs)]\n",
        "top = sorted(scores, key=lambda x: -x[2])[:top_k]\n",
        "res['brute'] = [(i,j,s) for i,j,s in top]\n",
        "elapsed_time = time.time() - start; mem1 = proc.memory_info().rss/(1024**2)\n",
        "\n",
        "print(\"Brute-force top-10:\", res['brute'])\n",
        "\n",
        "print(f\"Resources Used: {elapsed_time:.2f}s, Δmem: {mem1-mem0:.1f}MiB\")\n"
      ]
    },
    {
      "cell_type": "code",
      "execution_count": null,
      "metadata": {
        "id": "bcQ2Tse7DyFd"
      },
      "outputs": [],
      "source": [
        "#!pip3 install pyspark\n",
        "import pyspark\n",
        "from pyspark.sql import SparkSession\n",
        "\n",
        "import pyspark.sql.functions as f\n",
        "from pyspark.sql import Window\n",
        "\n",
        "spark = SparkSession.builder \\\n",
        "                    .appName(\"AMD Project\") \\\n",
        "                    .getOrCreate()"
      ]
    },
    {
      "cell_type": "code",
      "execution_count": null,
      "metadata": {
        "id": "XS6r-QMpChvE"
      },
      "outputs": [],
      "source": [
        "\n",
        "start = time.time(); mem0 = proc.memory_info().rss/(1024**2)\n",
        "# 1) We initiate a spark session\n",
        "spark = (\n",
        "    SparkSession.builder\n",
        "    .appName(\"MinHashSimilarReviews\")\n",
        "    .config(\"spark.driver.memory\",  \"8g\")\n",
        "    .config(\"spark.executor.memory\",\"8g\")\n",
        "    .getOrCreate()\n",
        ")\n",
        "\n",
        "# 2) Load & clean\n",
        "\n",
        "df = (\n",
        "    spark.read\n",
        "         .csv(file_path, header=True, inferSchema=True)\n",
        "         .withColumnRenamed(\"review/text\", \"text\")\n",
        "         .select(\"text\")\n",
        "         .filter(col(\"text\").isNotNull() & (col(\"text\") != \"\"))\n",
        "         .withColumn(\"doc_id\", monotonically_increasing_id())\n",
        ")\n",
        "\n"
      ]
    },
    {
      "cell_type": "code",
      "execution_count": null,
      "metadata": {
        "id": "8tjrkY4FiOEF"
      },
      "outputs": [],
      "source": [
        "# 3) Preprocessing: we treat lowercase & strip punctuation\n",
        "clean_udf = udf(lambda s: re.sub(r\"[^\\w\\s]\", \"\", s.lower()) if s else \"\", StringType())\n",
        "df = df.withColumn(\"clean_text\", clean_udf(col(\"text\")))"
      ]
    },
    {
      "cell_type": "code",
      "execution_count": null,
      "metadata": {
        "id": "yCNPeC70iQZr"
      },
      "outputs": [],
      "source": [
        "# 4) We tokenize\n",
        "df = Tokenizer(inputCol=\"clean_text\", outputCol=\"tokens\").transform(df)"
      ]
    },
    {
      "cell_type": "code",
      "execution_count": null,
      "metadata": {
        "id": "cgMQu2eMiTai"
      },
      "outputs": [],
      "source": [
        "# 5) Remove stop-words\n",
        "df = StopWordsRemover(inputCol=\"tokens\", outputCol=\"filtered_tokens\").transform(df)"
      ]
    },
    {
      "cell_type": "code",
      "execution_count": null,
      "metadata": {
        "id": "DK08_UBoiVCB"
      },
      "outputs": [],
      "source": [
        "# 6) We vectorize with HashingTF (no fit needed)\n",
        "df = HashingTF(\n",
        "    inputCol=\"filtered_tokens\",\n",
        "    outputCol=\"features\",\n",
        "    numFeatures=1 << 16\n",
        ").transform(df)\n",
        "\n"
      ]
    },
    {
      "cell_type": "code",
      "execution_count": null,
      "metadata": {
        "id": "_pLgVV6jiXnh"
      },
      "outputs": [],
      "source": [
        "# 7) We drop any all-zero vectors (MinHashLSH needs at least one non-zero)\n",
        "hasNZ = udf(lambda v: v.numNonzeros() > 0, BooleanType())\n",
        "df = df.filter(hasNZ(\"features\")).cache()"
      ]
    },
    {
      "cell_type": "code",
      "execution_count": null,
      "metadata": {
        "id": "jLBvN5IXiaHt"
      },
      "outputs": [],
      "source": [
        "# 8) We build & apply MinHashLSH\n",
        "mh = MinHashLSH(\n",
        "    inputCol=\"features\",\n",
        "    outputCol=\"hashes\",\n",
        "    numHashTables=3,\n",
        "    seed=42\n",
        ")\n",
        "model     = mh.fit(df)\n",
        "df_hashed = model.transform(df)"
      ]
    },
    {
      "cell_type": "code",
      "execution_count": null,
      "metadata": {
        "id": "oOhp5MpridxA"
      },
      "outputs": [],
      "source": [
        "# 9) We approx-join on distance = 1 − similarity\n",
        "sim_thresh     = 0.7\n",
        "dist_threshold = 1.0 - sim_thresh\n",
        "\n",
        "raw_pairs = (\n",
        "    model\n",
        "      .approxSimilarityJoin(df_hashed, df_hashed, dist_threshold, distCol=\"distance\")\n",
        "      .filter(col(\"datasetA.doc_id\") < col(\"datasetB.doc_id\"))\n",
        ")"
      ]
    },
    {
      "cell_type": "code",
      "execution_count": null,
      "metadata": {
        "id": "CUwvdZ24igd3"
      },
      "outputs": [],
      "source": [
        "# We compute Jaccard = 1 − distance, filter by threshold\n",
        "results = (\n",
        "    raw_pairs\n",
        "      .select(\n",
        "         col(\"datasetA.doc_id\").alias(\"docA\"),\n",
        "         col(\"datasetB.doc_id\").alias(\"docB\"),\n",
        "         (1 - col(\"distance\")).alias(\"jaccard\"),\n",
        "          col(\"datasetA.text\").alias(\"Review content\")\n",
        "      )\n",
        "      .filter(col(\"jaccard\") >= sim_thresh)\n",
        ")"
      ]
    },
    {
      "cell_type": "code",
      "execution_count": null,
      "metadata": {
        "colab": {
          "base_uri": "https://localhost:8080/"
        },
        "id": "oVL-hTU1ioX4",
        "outputId": "05a68de3-0142-42dd-e0d2-06cb630ec271"
      },
      "outputs": [
        {
          "name": "stdout",
          "output_type": "stream",
          "text": [
            "+-----+-----+------------------+----------------------------------------------------------------------------------------------------------------------------------------------------------------------------------------------------------------------------------------------------------------------------------------------------------------------------------------------------------------------------------------------------------------------------------------------------------------------------------------------------------------------------------------------------------------------------------------------------------------------------------------------------------------------------------------------------------------------------------------------------------------------------------------------------------------------------------------------------------------------------------------------------------------------------------------------------------------------------------------------------------------------------------------------------------------------------------------------------------------------------------------------------------------------------------------------------------------------------------------------------------------------------------------------------------------------------------------------------------------------------------------------------------------------------------------------------------------------------------------------------------------------------------------------------------------------------------------------------------------------------------------------------------------------------------------------------------------------------------------------------------------------------------------------------------------------------------------------------------------+\n",
            "|docA |docB |jaccard           |Review content                                                                                                                                                                                                                                                                                                                                                                                                                                                                                                                                                                                                                                                                                                                                                                                                                                                                                                                                                                                                                                                                                                                                                                                                                                                                                                                                                                                                                                                                                                                                                                                                                                                                                                                                                                                                                                                  |\n",
            "+-----+-----+------------------+----------------------------------------------------------------------------------------------------------------------------------------------------------------------------------------------------------------------------------------------------------------------------------------------------------------------------------------------------------------------------------------------------------------------------------------------------------------------------------------------------------------------------------------------------------------------------------------------------------------------------------------------------------------------------------------------------------------------------------------------------------------------------------------------------------------------------------------------------------------------------------------------------------------------------------------------------------------------------------------------------------------------------------------------------------------------------------------------------------------------------------------------------------------------------------------------------------------------------------------------------------------------------------------------------------------------------------------------------------------------------------------------------------------------------------------------------------------------------------------------------------------------------------------------------------------------------------------------------------------------------------------------------------------------------------------------------------------------------------------------------------------------------------------------------------------------------------------------------------------+\n",
            "|17155|17458|1.0               |This summer we read this book. I hated this book for several reasons. First of all, the story was way too jumpy. It started slow, and then randomly got fast. It had absolutly no suspense to it. I found myself forcing myself to read! I couldn't relate to any of the characters! For instance, some of the characters were too boring. Maybe if I read this book in this book in ten years I would have a different opinion. Another reason why I didn't like this book, is because the characters weren't seen enough. They were all just thrown in at different times. You didn't feel like you got to know them very well and I hate that. I would not recommend this book. I think that Ray Bradbury needs to rethink his book ideas! I do not want to be critical of Ray Bradbury, but really I couldn't stand this book. It had no meaning to me. It also, had a poor plot and setting. For instance, it was plotted in the future yet it was no different than today. I don't plan on reading anymore or Ray Bradbury's books!                                                                                                                                                                                                                                                                                                                                                                                                                                                                                                                                                                                                                                                                                                                                                                                                                       |\n",
            "|28383|35199|1.0               |\"\"\"The Mayor of Casterbridge\"\" ought to be the model of what a classic is not. Books deemed as a \"\"classic\"\" are said to be everlasting and universal in its message. This book does not spread its wings into our era                                                                                                                                                                                                                                                                                                                                                                                                                                                                                                                                                                                                                                                                                                                                                                                                                                                                                                                                                                                                                                                                                                                                                                                                                                                                                                                                                                                                                                                                                                                                                                                                                                          |\n",
            "|17939|18136|1.0               |\"If you have ever heard the saying \"\"Don't judge a book by its cover\"\"                                                                                                                                                                                                                                                                                                                                                                                                                                                                                                                                                                                                                                                                                                                                                                                                                                                                                                                                                                                                                                                                                                                                                                                                                                                                                                                                                                                                                                                                                                                                                                                                                                                                                                                                                                                          |\n",
            "|35252|39632|1.0               |The story of a man who ruins his life by doing the right thing at the wrong time, both in business and in his relationships with his wife, a potential wife, and his stepdaughter. In business, he buys at the wrong time and sells at the wrong time. In relationships, he is cold when his nearest and dearest wish to be close to him, and then seeks them out after it is too late.                                                                                                                                                                                                                                                                                                                                                                                                                                                                                                                                                                                                                                                                                                                                                                                                                                                                                                                                                                                                                                                                                                                                                                                                                                                                                                                                                                                                                                                                         |\n",
            "|35725|35958|0.7962962962962963|The Witch of Blackbird Pond is a good historical-fiction book. This book is good if you wanted to learn more about colonial times like their: everyday chores,religous events,festivals,dress pattern etc. I liked this book because it's a real page turner, it makes you wonder what's going to happen next.As you read the book you'll find out that it turns out to be so un-predictable! By reading this book you could tell that Speare worked hard and put a lot of effort into writing The Witch of Blackbird Pond. Wether you're reading the Witch of Blackbird Pond for the first time or fifth time it will be an enjoyable experience!                                                                                                                                                                                                                                                                                                                                                                                                                                                                                                                                                                                                                                                                                                                                                                                                                                                                                                                                                                                                                                                                                                                                                                                                              |\n",
            "|28331|35301|1.0               |\"Thomas Hardy's \"\"The Mayor of Casterbridge\"\" es a truly remarkable novel. Interesting throughout                                                                                                                                                                                                                                                                                                                                                                                                                                                                                                                                                                                                                                                                                                                                                                                                                                                                                                                                                                                                                                                                                                                                                                                                                                                                                                                                                                                                                                                                                                                                                                                                                                                                                                                                                               |\n",
            "|7551 |10582|1.0               |Being an avid sci-fi fan, I've read many books of the genere, but Foundation was the first Asimov that I had read. Foundation was an amazing book, in what I imagine is an incredible series. (I haven't read the others yet!) Asimov hooks you with a flawless story-line and personable characters, and reels you in with superb twists and turns and a way of resolving things that is limited to only his intellect. His visions of the future are as or more astounding then Orson Well's and his story-telling ability ranks among the best. It might be a &quot;Seldon&quot; crisis if you don't read this book. In other words if you are looking for a well crafted, enthralling, completely enjoyable novel, this is it.                                                                                                                                                                                                                                                                                                                                                                                                                                                                                                                                                                                                                                                                                                                                                                                                                                                                                                                                                                                                                                                                                                                              |\n",
            "|28341|39621|1.0               |In this book, Thomas Hardy manages to cut deep into the human soul, and uncover to us a part of our makeup that though inacceptable in some cases, yet, very real. He talks of man's selfishness and desires. He presents his theory, which states that man's destiny is no more than the product of his character and fate. In the wake of the industrial and intellectual revolutions, he gives us an idea of what man's guidelines would become. It such a wondeful novel, that is full of insight and wisdom. (check the death scene, page 123; it might be as well, the most elegant description of a human being passing away!)                                                                                                                                                                                                                                                                                                                                                                                                                                                                                                                                                                                                                                                                                                                                                                                                                                                                                                                                                                                                                                                                                                                                                                                                                           |\n",
            "|29783|29784|1.0               |Although many people view Of Mice and Men as a classic, there are some who disagree. The novel was banned and challenged in many schools throughout the country because of explicit language and profanity. After finishing the book myself, I strongly disagree. The language used in Of Mice and Men is nothing new, and most definitely not something that teenagers have not already heard before. One of the characters, Crooks, who happens to be an African American, is quite often referred to in the novel as inferior and is treated much differently than the other characters in the novel. That is perhaps another reason why people may have challenged the novel. Personally, I feel that Of Mice and Men positively contributes to the literary world because of its status. Many critics feel that it is a classic and I feel it should be treated as such. The idea of companionship is demonstrated throughout the book, and I feel that is a positive force. As shown in the novel, everyone needs someone to talk to, one cannot go throughout life without friends to confide in and have fun with. Overall, Of Mice and Men is a classic novel that everyone should read.                                                                                                                                                                                                                                                                                                                                                                                                                                                                                                                                                                                                                                                               |\n",
            "|7307 |27194|1.0               |5.0                                                                                                                                                                                                                                                                                                                                                                                                                                                                                                                                                                                                                                                                                                                                                                                                                                                                                                                                                                                                                                                                                                                                                                                                                                                                                                                                                                                                                                                                                                                                                                                                                                                                                                                                                                                                                                                             |\n",
            "|36250|36251|1.0               |\"\"\"I have never told this story nor shall mortal man see this manuscript until I have passed over for eternity. I know that the average human mind will not believe what it can not grasp......\"\"Written in 1912 this book is well written for its time and has intrigued countless generations of readers. I get the feeling that this story is being told over a campfire.Captain Carter is telling the story form memory as an old man of his adventures here on earth and on the planet of Barsoom (Mars). There are encounters with many strain creatures                                                                                                                                                                                                                                                                                                                                                                                                                                                                                                                                                                                                                                                                                                                                                                                                                                                                                                                                                                                                                                                                                                                                                                                                                                                                                                  |\n",
            "|35234|39646|1.0               |The Mayor of Casterbridge                                                                                                                                                                                                                                                                                                                                                                                                                                                                                                                                                                                                                                                                                                                                                                                                                                                                                                                                                                                                                                                                                                                                                                                                                                                                                                                                                                                                                                                                                                                                                                                                                                                                                                                                                                                                                                       |\n",
            "|40418|40419|1.0               |\"The text is lucid in its presentation of what is often viewed as a difficult subject.Starting with no more than a sound understanding of sixth form (high school) Mathematics and Physics, the authors proceed to underpin elementary concepts of electrostatics, simple circuits, and magnetism with the rigour and completeness demanded at University level. New mathematical ideas are introduced gently (so naturally, in fact, that the reader does not feel that (s)he is being asked to learn some new things!) and blended into the key Physical concepts.The book accelerates through a whole lot of material and tacitly introduces the reader to Maxwell's Equations without calling them so. Only after all of the core physical concepts - Dielectrics, Steady Currents and Magnetic Fields, Ferromagnetism, Electromagnetism/Induction - have been covered, do the authors venture to integrate the mathematics into Maxwell's equations. This emphasis on the Physics (with the Mathematics working merely as a tool) works really well and is central to the readability of this book.The latter chapters explore Transmission Lines, Electromagnetic Waves (which the mathematically inclined texts like to boast about as solutions of Maxwell's Equations), and the beginnings of Relativistic Electrodynamics.All in all, an excellent, enjoyable book - highly recommended! Makes Physics fun!Lastly, I might add that I was one of the \"\"guinea pigs\"\" at Manchester who benefited directly from the materials in this book and others in the Manchester Physics Series.\"                                                                                                                                                                                                                                                               |\n",
            "|7646 |10540|1.0               |\"This is certainly an excellent \"\"first\"\" book in the Asimov series. Even if one has not read                                                                                                                                                                                                                                                                                                                                                                                                                                                                                                                                                                                                                                                                                                                                                                                                                                                                                                                                                                                                                                                                                                                                                                                                                                                                                                                                                                                                                                                                                                                                                                                                                                                                                                                                                                   |\n",
            "|7892 |8156 |0.9436619718309859|I just finished reading Foundation and was extremely disappointed. Maybe I was expecting too much, something grander along the line of the Dune series. But the book in of itself is an extreme disappointment. I realize Asimov was young (21) when he wrote this, but his style leaves a lot to be desired. I'll take an early Arthur C. Clarke book over Asimov any day. This is the first book by Asimov I've read and I'm not sure I want to read another. His style is very dialogue driven with very few, if any, detail given to what the characters think. Everyone is very two-dimensional. And he never describes any of the scenes were all of this dialog takes place. Part of the interest in science-fiction is exploring new places, seeing different things. This entire story could have taken place on an empty stage. In fact, it seems like it's written more for a play than a novel. As for the story, it starts out interestingly enough. The Empire is going to crumble and to avoid thousands of years of dark-ages, a Foundation is set up to preserve the past learning's of the Empire. Well, that's what the original thought was at least. Soon we discover there's an alternate motive to this. Once we learn of this motive, the story goes straight downhill. Asimov skips decades from one page to another. Characters are introduced that we know practically nothing about, and he never tells us anything about them. I've read history books that had more character development than he gives the people in this book. By the time I got to the end I found myself saying &quot;So what&quot;? Am I supposed to continue on reading this series because it's been called a &quot;classic&quot;. I've seen the word &quot;classic&quot; thrown around a little too much sometimes. This is definitely one of those times.|\n",
            "|7688 |10422|1.0               |I think this is a great book by itself and worth the time in reading it but if you have time I would recommend reading the whole series. If you do that you might want to start with &quot;Prelude to Foundation&quot; but you don't have to. Pick up this book right away!                                                                                                                                                                                                                                                                                                                                                                                                                                                                                                                                                                                                                                                                                                                                                                                                                                                                                                                                                                                                                                                                                                                                                                                                                                                                                                                                                                                                                                                                                                                                                                                     |\n",
            "|10369|43262|1.0               |I loved reading the Foundation novels a long time ago and was glad I found them on Kindle. Can't go wrong with Asimov.                                                                                                                                                                                                                                                                                                                                                                                                                                                                                                                                                                                                                                                                                                                                                                                                                                                                                                                                                                                                                                                                                                                                                                                                                                                                                                                                                                                                                                                                                                                                                                                                                                                                                                                                          |\n",
            "|7737 |10111|1.0               |\"Isaac Asimov's \"\"Foundation\"\" was not conceived as the beginning of series of novels. It was not conceived as a novel. It was not even conceived entirely by Isaac Asimov.Beginning in the late 1930s and for decades thereafter                                                                                                                                                                                                                                                                                                                                                                                                                                                                                                                                                                                                                                                                                                                                                                                                                                                                                                                                                                                                                                                                                                                                                                                                                                                                                                                                                                                                                                                                                                                                                                                                                               |\n",
            "|2647 |11534|1.0               |The purchase was suppose to be just good or acceptable, but I was impressed by how good it was. It is highlighted, but those highlights were originally apart of the book, so it was practically new and not hardly used. It's easy to read and just what I needed for class! I would have liked to know how big it was going to be though. Thanks!                                                                                                                                                                                                                                                                                                                                                                                                                                                                                                                                                                                                                                                                                                                                                                                                                                                                                                                                                                                                                                                                                                                                                                                                                                                                                                                                                                                                                                                                                                             |\n",
            "|7998 |10142|1.0               |I've read it 4 times, and each one is still amazing and i discover lots of new things. Read it, and continue with the rest of the trilogy.                                                                                                                                                                                                                                                                                                                                                                                                                                                                                                                                                                                                                                                                                                                                                                                                                                                                                                                                                                                                                                                                                                                                                                                                                                                                                                                                                                                                                                                                                                                                                                                                                                                                                                                      |\n",
            "+-----+-----+------------------+----------------------------------------------------------------------------------------------------------------------------------------------------------------------------------------------------------------------------------------------------------------------------------------------------------------------------------------------------------------------------------------------------------------------------------------------------------------------------------------------------------------------------------------------------------------------------------------------------------------------------------------------------------------------------------------------------------------------------------------------------------------------------------------------------------------------------------------------------------------------------------------------------------------------------------------------------------------------------------------------------------------------------------------------------------------------------------------------------------------------------------------------------------------------------------------------------------------------------------------------------------------------------------------------------------------------------------------------------------------------------------------------------------------------------------------------------------------------------------------------------------------------------------------------------------------------------------------------------------------------------------------------------------------------------------------------------------------------------------------------------------------------------------------------------------------------------------------------------------------+\n",
            "only showing top 20 rows\n",
            "\n"
          ]
        }
      ],
      "source": [
        "# Time for results\n",
        "\n",
        "# We write everything to csv (we split the dataset on 10 files in case of massive output)\n",
        "results .repartition(10).write.mode(\"overwrite\") .option(\"header\", True).csv(\"similar_reviews_full\")\n",
        "\n",
        "\n",
        "\n",
        "results.show(20, truncate=False)   # show 20 sample rows\n"
      ]
    },
    {
      "cell_type": "code",
      "execution_count": null,
      "metadata": {
        "id": "-6rjbUSAkKhv"
      },
      "outputs": [],
      "source": [
        "# We end the session\n",
        "spark.stop()"
      ]
    }
  ],
  "metadata": {
    "colab": {
      "provenance": [],
      "toc_visible": true
    },
    "kernelspec": {
      "display_name": "Python 3",
      "name": "python3"
    },
    "language_info": {
      "name": "python"
    }
  },
  "nbformat": 4,
  "nbformat_minor": 0
}